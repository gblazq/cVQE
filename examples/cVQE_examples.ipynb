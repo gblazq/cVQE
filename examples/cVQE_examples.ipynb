{
 "cells": [
  {
   "cell_type": "code",
   "execution_count": 1,
   "metadata": {},
   "outputs": [],
   "source": [
    "from cVQE.initial_states import CompressedZero\n",
    "from cVQE.variational_forms import CompressedFermionicGaussianState\n",
    "from cVQE.operators.converters import QuadraticOperatorReducer\n",
    "\n",
    "from qiskit import Aer\n",
    "from qiskit.aqua import QuantumInstance\n",
    "from qiskit.aqua.algorithms import VQE\n",
    "from qiskit.aqua.components.optimizers import L_BFGS_B\n",
    "from qiskit.aqua.operators.operator_globals import I, X, Y, Z\n",
    "import numpy as np"
   ]
  },
  {
   "cell_type": "code",
   "execution_count": 2,
   "metadata": {},
   "outputs": [],
   "source": [
    "def print_intermediate_results(eval_count, parameters, energy, std):\n",
    "    if eval_count % 10 == 0:\n",
    "        print(f'Iteration: {eval_count}\\t Energy: {energy}')"
   ]
  },
  {
   "cell_type": "code",
   "execution_count": 3,
   "metadata": {},
   "outputs": [
    {
     "name": "stdout",
     "output_type": "stream",
     "text": [
      "Iteration: 10\t Energy: 0.42245536497345415\n",
      "Iteration: 20\t Energy: -0.9469175375976293\n",
      "Iteration: 30\t Energy: -1.2824416375716874\n",
      "Iteration: 40\t Energy: -1.3720946116577477\n",
      "Iteration: 50\t Energy: -1.4141972222559824\n",
      "Iteration: 60\t Energy: -1.4142127287477932\n",
      "Iteration: 70\t Energy: -1.4142135623710965\n",
      "{'optimal_parameters': {Parameter(θ[0]): -1.5612426841361025, Parameter(θ[1]): 3.141592653589793, Parameter(θ[2]): -0.6354378471424286, Parameter(θ[3]): 1.2883654836132554, Parameter(θ[4]): 3.141592653589793, Parameter(θ[5]): -1.22734633793894}, 'optimal_point': array([-1.56124268,  3.14159265, -0.63543785,  1.28836548,  3.14159265,\n",
      "       -1.22734634]), 'optimal_value': -1.414213562371085, 'optimizer_evals': 70, 'optimizer_time': 0.8196995258331299, 'eigenvalue': (-1.414213562371085+0j), 'eigenstate': {'000': 231, '001': 21, '010': 61, '011': 201, '100': 29, '101': 224, '110': 200, '111': 57}, 'cost_function_evals': 70}\n"
     ]
    }
   ],
   "source": [
    "n = 2\n",
    "compressed_num_qubits = int(np.log2(n) + 1)\n",
    "total_num_qubits = 2*compressed_num_qubits - 1\n",
    "\n",
    "H = ((I^Z) + (Z^I)) + 2*(Y^Y)\n",
    "op_reducer = QuadraticOperatorReducer()\n",
    "h = op_reducer.convert(H)\n",
    "\n",
    "optimizer = L_BFGS_B(maxiter=500)\n",
    "backend = QuantumInstance(Aer.get_backend(\"qasm_simulator\"))\n",
    "\n",
    "initial_state = CompressedZero(total_num_qubits)\n",
    "var_form = CompressedFermionicGaussianState(compressed_num_qubits, initial_state=initial_state)\n",
    "\n",
    "vqe = VQE(h, var_form, optimizer=optimizer, include_custom=True, quantum_instance=backend, callback=print_intermediate_results)\n",
    "print(vqe.run())"
   ]
  },
  {
   "cell_type": "code",
   "execution_count": 4,
   "metadata": {},
   "outputs": [
    {
     "name": "stdout",
     "output_type": "stream",
     "text": [
      "Iteration: 10\t Energy: -0.41354619456966735\n",
      "Iteration: 20\t Energy: -0.41354619585352004\n",
      "Iteration: 30\t Energy: -0.7330242812437361\n",
      "Iteration: 40\t Energy: -0.733024281791622\n",
      "Iteration: 50\t Energy: -0.7330242809077848\n",
      "Iteration: 60\t Energy: 0.376125078589928\n",
      "Iteration: 70\t Energy: 0.37612507896604025\n",
      "Iteration: 80\t Energy: 0.37612507859209676\n",
      "Iteration: 90\t Energy: -1.1085876027984058\n",
      "Iteration: 100\t Energy: -1.1085876054576091\n",
      "Iteration: 110\t Energy: -1.108587605193647\n",
      "Iteration: 120\t Energy: -1.3132637826081126\n",
      "Iteration: 130\t Energy: -1.3132637828077085\n",
      "Iteration: 140\t Energy: -1.3132637843496437\n",
      "Iteration: 150\t Energy: -1.4489291173839671\n",
      "Iteration: 160\t Energy: -1.4489291161112137\n",
      "Iteration: 170\t Energy: -1.4489291166678409\n",
      "Iteration: 180\t Energy: -1.5397244895100513\n",
      "Iteration: 190\t Energy: -1.5397244901557143\n",
      "Iteration: 200\t Energy: -1.5397244898987221\n",
      "Iteration: 210\t Energy: -1.6163330134237253\n",
      "Iteration: 220\t Energy: -1.616333012164246\n",
      "Iteration: 230\t Energy: -1.6163330136711327\n",
      "Iteration: 240\t Energy: -1.6697227389484914\n",
      "Iteration: 250\t Energy: -1.6697227383730302\n",
      "Iteration: 260\t Energy: -1.6697227388485527\n",
      "Iteration: 270\t Energy: -1.7031880926077907\n",
      "Iteration: 280\t Energy: -1.7031880926220289\n",
      "Iteration: 290\t Energy: -1.7031880926616392\n",
      "Iteration: 300\t Energy: -1.7092271148544553\n",
      "Iteration: 310\t Energy: -1.709227114656783\n",
      "Iteration: 320\t Energy: -1.710316135235059\n",
      "Iteration: 330\t Energy: -1.710316135255335\n",
      "Iteration: 340\t Energy: -1.71031613523688\n",
      "Iteration: 350\t Energy: -1.7111094643321398\n",
      "Iteration: 360\t Energy: -1.7111094643410327\n",
      "Iteration: 370\t Energy: -1.7111094643626963\n",
      "Iteration: 380\t Energy: -1.7120522207246491\n",
      "Iteration: 390\t Energy: -1.7120522206824775\n",
      "Iteration: 400\t Energy: -1.7120522207478621\n",
      "Iteration: 410\t Energy: -1.7128698292053146\n",
      "Iteration: 420\t Energy: -1.7128698292145799\n",
      "Iteration: 430\t Energy: -1.7128698291993292\n",
      "Iteration: 440\t Energy: -1.713245969950415\n",
      "Iteration: 450\t Energy: -1.7132459699686753\n",
      "Iteration: 460\t Energy: -1.7132459699427207\n",
      "Iteration: 470\t Energy: -1.7134875287649545\n",
      "Iteration: 480\t Energy: -1.713487528745116\n",
      "Iteration: 490\t Energy: -1.7134875287821816\n",
      "Iteration: 500\t Energy: -1.7135085227451952\n",
      "Iteration: 510\t Energy: -1.7135085227477007\n",
      "Iteration: 520\t Energy: -1.7135085227488958\n",
      "Iteration: 530\t Energy: -1.7135134207128306\n",
      "Iteration: 540\t Energy: -1.713513420709579\n",
      "Iteration: 550\t Energy: -1.7135134207066065\n",
      "Iteration: 560\t Energy: -1.7135163155526736\n",
      "Iteration: 570\t Energy: -1.7135163155504078\n",
      "Iteration: 580\t Energy: -1.7135163155504078\n",
      "Iteration: 590\t Energy: -1.7135159637414716\n",
      "Iteration: 600\t Energy: -1.7135159637469575\n",
      "Iteration: 610\t Energy: -1.713516839215122\n",
      "Iteration: 620\t Energy: -1.7135168392150624\n",
      "Iteration: 630\t Energy: -1.7135168392150129\n",
      "Iteration: 640\t Energy: -1.713516964374525\n",
      "Iteration: 650\t Energy: -1.7135169643749903\n",
      "Iteration: 660\t Energy: -1.71351696437399\n",
      "Iteration: 670\t Energy: -1.7135170249805496\n",
      "Iteration: 680\t Energy: -1.7135170249808105\n",
      "Iteration: 690\t Energy: -1.713517024980653\n",
      "Iteration: 700\t Energy: -1.713517039110033\n",
      "Iteration: 710\t Energy: -1.713517039109849\n",
      "Iteration: 720\t Energy: -1.7135170391099646\n",
      "Iteration: 730\t Energy: -1.7135170439714185\n",
      "Iteration: 740\t Energy: -1.7135170439714211\n",
      "Iteration: 750\t Energy: -1.7135170439714449\n",
      "Iteration: 760\t Energy: -1.713517044344319\n",
      "Iteration: 770\t Energy: -1.7135170443442482\n",
      "Iteration: 780\t Energy: -1.7135170443442664\n",
      "{'optimal_parameters': {Parameter(θ[0]): 2.3285246247915805, Parameter(θ[1]): -3.1081502284899805, Parameter(θ[2]): 0.2922480313827829, Parameter(θ[3]): 0.3921473458938083, Parameter(θ[4]): -0.987499946167703, Parameter(θ[5]): -3.141592653589793, Parameter(θ[6]): -2.6175969153204313, Parameter(θ[7]): 2.530810122619484, Parameter(θ[8]): -1.7385668482799668, Parameter(θ[9]): 3.1415921767587527, Parameter(θ[10]): -1.8687218522196951, Parameter(θ[11]): 1.0314388437005102, Parameter(θ[12]): -2.123298912395607, Parameter(θ[13]): 0.7279171335813502, Parameter(θ[14]): -0.7577820912153248, Parameter(θ[15]): -3.141592653589793, Parameter(θ[16]): 0.23975276280762803, Parameter(θ[17]): -0.22818563110378157, Parameter(θ[18]): 1.79080063648633, Parameter(θ[19]): -2.941190251410032, Parameter(θ[20]): -2.2114771262655872, Parameter(θ[21]): 3.141592653589793, Parameter(θ[22]): 1.280120600527886, Parameter(θ[23]): -1.8701579474632215, Parameter(θ[24]): 1.4211578016698507, Parameter(θ[25]): 1.6691547249989587, Parameter(θ[26]): -2.0548096664370017, Parameter(θ[27]): -1.2643526567021108}, 'optimal_point': array([ 2.32852462, -3.10815023,  0.29224803,  0.39214735, -0.98749995,\n",
      "       -3.14159265, -2.61759692,  2.53081012, -1.73856685,  3.14159218,\n",
      "       -1.86872185,  1.03143884, -2.12329891,  0.72791713, -0.75778209,\n",
      "       -3.14159265,  0.23975276, -0.22818563,  1.79080064, -2.94119025,\n",
      "       -2.21147713,  3.14159265,  1.2801206 , -1.87015795,  1.4211578 ,\n",
      "        1.66915472, -2.05480967, -1.26435266]), 'optimal_value': -1.7135170443442522, 'optimizer_evals': 783, 'optimizer_time': 18.312151193618774, 'eigenvalue': (-1.7135170443442522+0j), 'eigenstate': {'00001': 4, '10000': 7, '10001': 95, '10011': 33, '10100': 14, '10101': 33, '10110': 43, '10111': 31, '11000': 119, '11001': 7, '11011': 1, '11100': 7, '11101': 65, '11110': 1, '11111': 32, '00010': 110, '00011': 16, '00100': 85, '00101': 3, '00110': 39, '00111': 2, '01001': 22, '01010': 29, '01011': 89, '01100': 18, '01101': 8, '01110': 44, '01111': 67}, 'cost_function_evals': 783}\n"
     ]
    }
   ],
   "source": [
    "n = 4\n",
    "compressed_num_qubits = int(np.log2(n) + 1)\n",
    "total_num_qubits = 2*compressed_num_qubits - 1\n",
    "\n",
    "H = (I^I^I^Z) + (I^I^Z^I) + (I^Z^I^I) + (Z^I^I^I) + 2*((I^I^Y^Y) + (I^Y^Y^I) + (Y^Y^I^I))\n",
    "op_reducer = QuadraticOperatorReducer()\n",
    "h = op_reducer.convert(H)\n",
    "\n",
    "optimizer = L_BFGS_B(maxiter=500)\n",
    "backend = QuantumInstance(Aer.get_backend(\"qasm_simulator\"))\n",
    "\n",
    "initial_state = CompressedZero(total_num_qubits)\n",
    "var_form = CompressedFermionicGaussianState(compressed_num_qubits, initial_state=initial_state)\n",
    "\n",
    "vqe = VQE(h, var_form, optimizer=optimizer, include_custom=True, quantum_instance=backend, callback=print_intermediate_results)\n",
    "print(vqe.run())"
   ]
  }
 ],
 "metadata": {
  "kernelspec": {
   "display_name": "Python 3",
   "language": "python",
   "name": "python3"
  },
  "language_info": {
   "codemirror_mode": {
    "name": "ipython",
    "version": 3
   },
   "file_extension": ".py",
   "mimetype": "text/x-python",
   "name": "python",
   "nbconvert_exporter": "python",
   "pygments_lexer": "ipython3",
   "version": "3.7.9"
  }
 },
 "nbformat": 4,
 "nbformat_minor": 4
}
