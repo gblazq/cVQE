{
 "cells": [
  {
   "cell_type": "markdown",
   "metadata": {},
   "source": [
    "## Running compressed variational quantum eigensolvers\n",
    "\n",
    "cVQE provides classes to run variational quantum eigensolvers in compressed space. This notebook shows how to use the package to run compressed algorithms within Qiskit.\n",
    "\n",
    "To run a VQE in compressed space you'll need to compress a quadratic Hamiltonian, which can be done with the `cVQE.operators.converters.QuadraticOperatorReducer` class and an appropriate ansatz, for which we give the `cVQE.variational_forms.CompressedFermionicGaussianState` class. The ansatz must be initialized to any compressed Fermionic Gaussian state. The `cVQE.initial_states.CompressedZero` class provides such a state to initialize the ansatz."
   ]
  },
  {
   "cell_type": "markdown",
   "metadata": {},
   "source": [
    "### 2-qubit example\n",
    "\n",
    "To start, let's run a compressed VQE for a 2-qubit system. First of all, to ensure reproducibility, let's define a seed."
   ]
  },
  {
   "cell_type": "code",
   "execution_count": 1,
   "metadata": {},
   "outputs": [],
   "source": [
    "from qiskit.aqua import aqua_globals\n",
    "\n",
    "global_seed = 1234\n",
    "aqua_globals.random_seed = global_seed"
   ]
  },
  {
   "cell_type": "markdown",
   "metadata": {},
   "source": [
    "Now, let's make all the imports we need. We'll use a VQE from Qiskit Aqua, so we need to import the algorithm, a classical optimizer, and the classes to create a quantum instance to run the algorithm. We also need to define the Hamiltonian, so we need the Pauli matrices. Let's also define the quantum instance to use in all the notebook. We've chosen a QASM simulator backend, but any other backend will do."
   ]
  },
  {
   "cell_type": "code",
   "execution_count": 2,
   "metadata": {},
   "outputs": [],
   "source": [
    "from qiskit import Aer\n",
    "from qiskit.aqua import QuantumInstance\n",
    "from qiskit.aqua.algorithms import VQE\n",
    "from qiskit.aqua.components.optimizers import SPSA\n",
    "from qiskit.aqua.operators.operator_globals import I, X, Y, Z\n",
    "\n",
    "quantum_instance = QuantumInstance(Aer.get_backend(\"qasm_simulator\"), seed_simulator=global_seed, seed_transpiler=global_seed)"
   ]
  },
  {
   "cell_type": "markdown",
   "metadata": {},
   "source": [
    "To run the algorithm in compressed space, we need the initial state, the variational form, and the converter to compress the Hamiltonian, all of them from the cVQE package."
   ]
  },
  {
   "cell_type": "code",
   "execution_count": 3,
   "metadata": {},
   "outputs": [],
   "source": [
    "from cVQE.initial_states import CompressedZero\n",
    "from cVQE.variational_forms import CompressedFermionicGaussianState\n",
    "from cVQE.operators.converters import QuadraticOperatorReducer"
   ]
  },
  {
   "cell_type": "markdown",
   "metadata": {},
   "source": [
    "For convenience, let's define a function that we can pass to the VQE to print the energy density every `i` iterations to see how it converges."
   ]
  },
  {
   "cell_type": "code",
   "execution_count": 4,
   "metadata": {},
   "outputs": [],
   "source": [
    "def print_intermediate_results(i=10):\n",
    "    def f(eval_count, parameters, value, std):\n",
    "        if eval_count % i == 0:\n",
    "            print(f'Iteration: {eval_count}\\t Energy density: {value}')\n",
    "    return f"
   ]
  },
  {
   "cell_type": "markdown",
   "metadata": {},
   "source": [
    "#### Building the variational form\n",
    "\n",
    "We're now ready to build the variational form for the VQE. An important feature of the compressed space is that its states are compressed Fermionic Gaussian states. The variational form ansatz implements an special orthogonal rotation (a Bogoliubov transformation in compressed space) that maps compressed Fermionic Gaussian states onto themselves. Therefore, as long as we start with a compressed Fermionic Gaussian state, the variational form will be able to reach any other such state. This means that we must initialize the variational form to a compressed Fermionic Gaussan state if we are going to use it to find the eigenstate of a quadratic Hamiltonian, whose eigenstates are Gaussian.\n",
    "\n",
    "In compressed space, a system of n qubits becomes a system of $$\\log{n} + 1$$ qubits. However, Fermionic Gaussian states are mixed states in the compressed space. We can purify them in $$2\\log{n} + 1$$ qubits, so that will be the total number of qubits and, specifically, the number of qubits of the initial state."
   ]
  },
  {
   "cell_type": "code",
   "execution_count": 5,
   "metadata": {},
   "outputs": [],
   "source": [
    "import numpy as np\n",
    "\n",
    "n = 2\n",
    "compressed_num_qubits = int(np.log2(n) + 1)\n",
    "total_num_qubits = 2*compressed_num_qubits - 1\n",
    "\n",
    "initial_state = CompressedZero(total_num_qubits)\n",
    "var_form = CompressedFermionicGaussianState(compressed_num_qubits, initial_state=initial_state)"
   ]
  },
  {
   "cell_type": "markdown",
   "metadata": {},
   "source": [
    "The initial state is a subclass of Qiskit's InitialState base class, so we can either get its statevector or build a circuit that generates the state. For the compressed zero state, it's"
   ]
  },
  {
   "cell_type": "code",
   "execution_count": 6,
   "metadata": {},
   "outputs": [
    {
     "data": {
      "image/png": "[encoded data removed]",
      "text/plain": [
       "<Figure size 267.197x204.68 with 1 Axes>"
      ]
     },
     "execution_count": 6,
     "metadata": {},
     "output_type": "execute_result"
    }
   ],
   "source": [
    "initial_state.construct_circuit('circuit').draw()"
   ]
  },
  {
   "cell_type": "markdown",
   "metadata": {},
   "source": [
    "This state is symmetric with respect to the middle qubit. With the rotation, the ansatz becomes"
   ]
  },
  {
   "cell_type": "code",
   "execution_count": 7,
   "metadata": {},
   "outputs": [
    {
     "data": {
      "image/png": "[encoded data removed]",
      "text/plain": [
       "<Figure size 1110x204.68 with 1 Axes>"
      ]
     },
     "execution_count": 7,
     "metadata": {},
     "output_type": "execute_result"
    }
   ],
   "source": [
    "from qiskit.circuit import ParameterVector\n",
    "var_form.construct_circuit(ParameterVector('θ', var_form.num_parameters)).draw()"
   ]
  },
  {
   "cell_type": "markdown",
   "metadata": {},
   "source": [
    "Due to the symmetry of the compressed zero state, we can rotate either half of the system. For our purposes it is more convenient to rotate the upper half because this way we can compute the expectation value just by passing to Qiskit the compressed operator and treating the rest as ancillae, instead of having to provide an operator for the whole system by tensoring the compressed operator with identities."
   ]
  },
  {
   "cell_type": "markdown",
   "metadata": {},
   "source": [
    "#### Defining the operator\n",
    "\n",
    "Let's now define the operator. A quadratic Hamiltonian can only have the following terms: Z, XX, YY, XY and YX. Moreover, the converter can only generate the compressed operator if the Hamiltonian is homogeneous (i.e all terms of any of the 5 classes have the same coefficient).\n",
    "\n",
    "In this case we want to find the energy density of the following quadratic Hamiltonian on 2 qubits:"
   ]
  },
  {
   "cell_type": "code",
   "execution_count": 8,
   "metadata": {},
   "outputs": [],
   "source": [
    "H = ((I^Z) + (Z^I)) +2*(Y^Y)"
   ]
  },
  {
   "cell_type": "markdown",
   "metadata": {},
   "source": [
    "Let's compute its eigenvalue and find the energy density to compare with the value we get from the VQE."
   ]
  },
  {
   "cell_type": "code",
   "execution_count": 9,
   "metadata": {},
   "outputs": [
    {
     "name": "stdout",
     "output_type": "stream",
     "text": [
      "Energy: -2.8284271247461903\n",
      "Energy density: -1.4142135623730951\n"
     ]
    }
   ],
   "source": [
    "energy = np.linalg.eigh(H.to_matrix())[0][0]\n",
    "print(f'Energy: {energy}')\n",
    "print(f'Energy density: {energy/n}')"
   ]
  },
  {
   "cell_type": "markdown",
   "metadata": {},
   "source": [
    "After compression, the Hamiltonian becomes I^Y - X^Y - Y^X (for n=2 there's no compression, the number of qubits is still 2):"
   ]
  },
  {
   "cell_type": "code",
   "execution_count": 10,
   "metadata": {},
   "outputs": [
    {
     "name": "stdout",
     "output_type": "stream",
     "text": [
      "SummedOp([\n",
      "  IY,\n",
      "  (-1+0j) * XY,\n",
      "  (-1+0j) * YX\n",
      "])\n"
     ]
    }
   ],
   "source": [
    "op_reducer = QuadraticOperatorReducer()\n",
    "h = op_reducer.convert(H)\n",
    "print(h)"
   ]
  },
  {
   "cell_type": "markdown",
   "metadata": {},
   "source": [
    "By default, the converter returns the original operator's density. You can use the `density` parameter when instantiating the class to return the operator instead of its density."
   ]
  },
  {
   "cell_type": "markdown",
   "metadata": {},
   "source": [
    "#### Running the VQE\n",
    "\n",
    "Now that we have the variational form and the compressed hamiltonian, we only need to define a classical optimizer and a quantum instance and run the VQE algorithm just as with any other eigensolver."
   ]
  },
  {
   "cell_type": "code",
   "execution_count": 11,
   "metadata": {},
   "outputs": [
    {
     "name": "stdout",
     "output_type": "stream",
     "text": [
      "Iteration: 100\t Energy density: -1.3970659371343173\n",
      "Iteration: 200\t Energy density: -1.4071840793844321\n",
      "Iteration: 300\t Energy density: -1.41222865514194\n",
      "Iteration: 400\t Energy density: -1.4071885479191735\n",
      "Iteration: 500\t Energy density: -1.4085194322703625\n",
      "Iteration: 600\t Energy density: -1.4099985014635181\n",
      "Iteration: 700\t Energy density: -1.4100976528659137\n",
      "Iteration: 800\t Energy density: -1.4110757827641243\n",
      "Iteration: 900\t Energy density: -1.4121259168014246\n",
      "Iteration: 1000\t Energy density: -1.4140535869804476\n",
      "Iteration: 1100\t Energy density: -1.4112046918621832\n",
      "Iteration: 1200\t Energy density: -1.413931234625347\n",
      "Iteration: 1300\t Energy density: -1.4109377878575362\n",
      "Iteration: 1400\t Energy density: -1.4133313514593895\n",
      "Iteration: 1500\t Energy density: -1.4105632367091392\n",
      "Iteration: 1600\t Energy density: -1.4107949714835064\n",
      "Iteration: 1700\t Energy density: -1.4112745921808603\n",
      "Iteration: 1800\t Energy density: -1.410803251595913\n",
      "Iteration: 1900\t Energy density: -1.4109398502121653\n",
      "Iteration: 2000\t Energy density: -1.4131644764183193\n",
      "{'cost_function_evals': 2051,\n",
      " 'eigenstate': {'000': 18,\n",
      "                '001': 255,\n",
      "                '010': 55,\n",
      "                '011': 193,\n",
      "                '100': 226,\n",
      "                '101': 21,\n",
      "                '110': 186,\n",
      "                '111': 70},\n",
      " 'eigenvalue': (-1.4142131846437012+0j),\n",
      " 'optimal_parameters': {Parameter(θ[0]): 2.6044160870252564,\n",
      "                        Parameter(θ[1]): -0.48452366591011004,\n",
      "                        Parameter(θ[2]): 1.4346381360438438,\n",
      "                        Parameter(θ[3]): -1.4345636831960493,\n",
      "                        Parameter(θ[4]): -0.48533230454186205,\n",
      "                        Parameter(θ[5]): -2.1088835956350724},\n",
      " 'optimal_point': array([ 2.60441609, -0.48452367,  1.43463814, -1.43456368, -0.4853323 ,\n",
      "       -2.1088836 ]),\n",
      " 'optimal_value': -1.4142131846437012,\n",
      " 'optimizer_time': 29.81111788749695}\n"
     ]
    }
   ],
   "source": [
    "from pprint import pprint\n",
    "\n",
    "optimizer = SPSA()\n",
    "\n",
    "vqe = VQE(h, var_form, optimizer=optimizer, include_custom=True, quantum_instance=quantum_instance, \n",
    "          callback=print_intermediate_results(i=100))\n",
    "\n",
    "result = vqe.run()\n",
    "pprint(result)"
   ]
  },
  {
   "cell_type": "markdown",
   "metadata": {},
   "source": [
    "The results are"
   ]
  },
  {
   "cell_type": "code",
   "execution_count": 12,
   "metadata": {},
   "outputs": [
    {
     "name": "stdout",
     "output_type": "stream",
     "text": [
      "Energy density (diagonalization): -1.4142135623730951\n",
      "Energy density (VQE): -1.4142131846437012\n",
      "Diagonalization result - VQE result: -3.777293939855042e-07\n"
     ]
    }
   ],
   "source": [
    "print(f\"Energy density (diagonalization): {energy/n}\")\n",
    "print(f\"Energy density (VQE): {result['optimal_value']}\")\n",
    "print(f\"Diagonalization result - VQE result: {energy/n - result['optimal_value']}\")"
   ]
  },
  {
   "cell_type": "markdown",
   "metadata": {},
   "source": [
    "### 4-qubit example\n",
    "\n",
    "Let's now do a 4-qubit example with a similar Hamiltonian."
   ]
  },
  {
   "cell_type": "code",
   "execution_count": 13,
   "metadata": {},
   "outputs": [
    {
     "name": "stdout",
     "output_type": "stream",
     "text": [
      "Energy: -6.854068177816159\n",
      "Energy density: -1.7135170444540397\n"
     ]
    }
   ],
   "source": [
    "n = 4\n",
    "\n",
    "H = (I^I^I^Z) + (I^I^Z^I) + (I^Z^I^I) + (Z^I^I^I) + 2*((I^I^Y^Y) + (I^Y^Y^I) + (Y^Y^I^I))\n",
    "energy = np.linalg.eigh(H.to_matrix())[0][0]\n",
    "print(f'Energy: {energy}')\n",
    "print(f'Energy density: {energy/n}')"
   ]
  },
  {
   "cell_type": "code",
   "execution_count": 14,
   "metadata": {},
   "outputs": [
    {
     "name": "stdout",
     "output_type": "stream",
     "text": [
      "Iteration: 100\t Energy density: -1.6416647443877634\n",
      "Iteration: 200\t Energy density: -1.7009688620906354\n",
      "Iteration: 300\t Energy density: -1.6869214191664095\n",
      "Iteration: 400\t Energy density: -1.6917211988143417\n",
      "Iteration: 500\t Energy density: -1.7020209413398661\n",
      "Iteration: 600\t Energy density: -1.6936920496816708\n",
      "Iteration: 700\t Energy density: -1.6964184546684946\n",
      "Iteration: 800\t Energy density: -1.6957780806583664\n",
      "Iteration: 900\t Energy density: -1.6992943798314322\n",
      "Iteration: 1000\t Energy density: -1.7006981325093\n",
      "Iteration: 1100\t Energy density: -1.7061111070675417\n",
      "Iteration: 1200\t Energy density: -1.703561512983561\n",
      "Iteration: 1300\t Energy density: -1.6938264020955163\n",
      "Iteration: 1400\t Energy density: -1.697348367707021\n",
      "Iteration: 1500\t Energy density: -1.701308370959442\n",
      "Iteration: 1600\t Energy density: -1.7036558170390124\n",
      "Iteration: 1700\t Energy density: -1.703203063716523\n",
      "Iteration: 1800\t Energy density: -1.7014506517529657\n",
      "Iteration: 1900\t Energy density: -1.7022108637311688\n",
      "Iteration: 2000\t Energy density: -1.6993519459041027\n",
      "{'cost_function_evals': 2051,\n",
      " 'eigenstate': {'00001': 99,\n",
      "                '00010': 3,\n",
      "                '00011': 49,\n",
      "                '00100': 31,\n",
      "                '00101': 69,\n",
      "                '00110': 20,\n",
      "                '00111': 2,\n",
      "                '01001': 16,\n",
      "                '01010': 37,\n",
      "                '01011': 69,\n",
      "                '01100': 15,\n",
      "                '01101': 23,\n",
      "                '01110': 3,\n",
      "                '01111': 85,\n",
      "                '10000': 119,\n",
      "                '10001': 2,\n",
      "                '10011': 4,\n",
      "                '10100': 11,\n",
      "                '10101': 19,\n",
      "                '10110': 48,\n",
      "                '10111': 44,\n",
      "                '11000': 1,\n",
      "                '11001': 20,\n",
      "                '11010': 89,\n",
      "                '11011': 18,\n",
      "                '11100': 79,\n",
      "                '11101': 3,\n",
      "                '11110': 41,\n",
      "                '11111': 5},\n",
      " 'eigenvalue': (-1.7105330465220012+0j),\n",
      " 'optimal_parameters': {Parameter(θ[18]): 1.078830516830464,\n",
      "                        Parameter(θ[19]): 2.0709883385312935,\n",
      "                        Parameter(θ[20]): -2.5114042134974697,\n",
      "                        Parameter(θ[21]): -2.6160260104699598,\n",
      "                        Parameter(θ[22]): 2.740907105048555,\n",
      "                        Parameter(θ[7]): -0.2680500097815308,\n",
      "                        Parameter(θ[8]): 2.696734270439816,\n",
      "                        Parameter(θ[9]): -0.6965954784387774,\n",
      "                        Parameter(θ[10]): 3.2218718292687165,\n",
      "                        Parameter(θ[11]): 0.8389813689591602,\n",
      "                        Parameter(θ[12]): 0.6580760098682138,\n",
      "                        Parameter(θ[13]): -0.6969967245325487,\n",
      "                        Parameter(θ[14]): 1.2186095243761697,\n",
      "                        Parameter(θ[15]): 4.389247623645197,\n",
      "                        Parameter(θ[16]): -2.6328249198270743,\n",
      "                        Parameter(θ[17]): 2.2558112414852114,\n",
      "                        Parameter(θ[26]): -4.47578069038088,\n",
      "                        Parameter(θ[25]): -1.3331849586044757,\n",
      "                        Parameter(θ[24]): -2.160136991955025,\n",
      "                        Parameter(θ[0]): 1.0588518879978916,\n",
      "                        Parameter(θ[1]): 1.6605008684480416,\n",
      "                        Parameter(θ[2]): -0.828364193383505,\n",
      "                        Parameter(θ[3]): 3.22638555172167,\n",
      "                        Parameter(θ[4]): -3.046910107488429,\n",
      "                        Parameter(θ[5]): 3.4456876581223725,\n",
      "                        Parameter(θ[6]): 0.2005867853633978,\n",
      "                        Parameter(θ[27]): -2.8364821813494223,\n",
      "                        Parameter(θ[23]): 1.0721904820710348},\n",
      " 'optimal_point': array([ 1.05885189,  1.66050087, -0.82836419,  3.22638555, -3.04691011,\n",
      "        3.44568766,  0.20058679, -0.26805001,  2.69673427, -0.69659548,\n",
      "        3.22187183,  0.83898137,  0.65807601, -0.69699672,  1.21860952,\n",
      "        4.38924762, -2.63282492,  2.25581124,  1.07883052,  2.07098834,\n",
      "       -2.51140421, -2.61602601,  2.74090711,  1.07219048, -2.16013699,\n",
      "       -1.33318496, -4.47578069, -2.83648218]),\n",
      " 'optimal_value': -1.7105330465220012,\n",
      " 'optimizer_time': 88.10080218315125}\n"
     ]
    }
   ],
   "source": [
    "compressed_num_qubits = int(np.log2(n) + 1)\n",
    "total_num_qubits = 2*compressed_num_qubits - 1\n",
    "\n",
    "op_reducer = QuadraticOperatorReducer()\n",
    "h = op_reducer.convert(H)\n",
    "\n",
    "initial_state = CompressedZero(total_num_qubits)\n",
    "var_form = CompressedFermionicGaussianState(compressed_num_qubits, initial_state=initial_state)\n",
    "\n",
    "optimizer = SPSA()\n",
    "vqe = VQE(h, var_form, optimizer=optimizer, include_custom=True, quantum_instance=quantum_instance, \n",
    "          callback=print_intermediate_results(i=100))\n",
    "result = vqe.run()\n",
    "\n",
    "pprint(result)"
   ]
  },
  {
   "cell_type": "code",
   "execution_count": 15,
   "metadata": {},
   "outputs": [
    {
     "name": "stdout",
     "output_type": "stream",
     "text": [
      "Energy density (diagonalization): -1.7135170444540397\n",
      "Energy density (VQE): -1.7105330465220012\n",
      "Diagonalization result - VQE result: -0.002983997932038518\n"
     ]
    }
   ],
   "source": [
    "print(f\"Energy density (diagonalization): {energy/n}\")\n",
    "print(f\"Energy density (VQE): {result['optimal_value']}\")\n",
    "print(f\"Diagonalization result - VQE result: {energy/n - result['optimal_value']}\")"
   ]
  },
  {
   "cell_type": "markdown",
   "metadata": {},
   "source": [
    "### Using the gradient\n",
    "\n",
    "We can also compute the gradient, which may help the convergence depending on the optimizer. There are two options to evaluate the gradient within the VQE. One way is to use the custom gradient callable that can be produced in the variational form. The next section shows an example of how to use this gradient. \n",
    "\n",
    "The other option is using Qiskit Aqua's Gradient module, which we'll explain later.\n",
    "\n",
    "The custom gradient callable option is recommended, as it avoids some overhead introduced by the Qiskit gradient. "
   ]
  },
  {
   "cell_type": "markdown",
   "metadata": {},
   "source": [
    "#### Custom gradient\n",
    "\n",
    "The use of the custom gradient is very simple. You just have to create the gradient callable which will be passed to the optimizer using the `get_gradient_callable` method in the variational form object."
   ]
  },
  {
   "cell_type": "code",
   "execution_count": 16,
   "metadata": {},
   "outputs": [
    {
     "name": "stdout",
     "output_type": "stream",
     "text": [
      "Iteration: 1\t Energy density: 0.3251169355892931\n",
      "Iteration: 2\t Energy density: -0.045156643499715654\n",
      "Iteration: 3\t Energy density: -0.32113975406150835\n",
      "Iteration: 4\t Energy density: -0.9985646586064826\n",
      "Iteration: 5\t Energy density: -1.0363838914245305\n",
      "Iteration: 6\t Energy density: -1.1838413875987472\n",
      "Iteration: 7\t Energy density: -1.4522648655483914\n",
      "Iteration: 8\t Energy density: -1.6895575106622664\n",
      "Iteration: 9\t Energy density: -1.747000913887787\n",
      "Iteration: 10\t Energy density: -1.7539107140571595\n",
      "Iteration: 11\t Energy density: -1.7674304940987398\n",
      "Iteration: 12\t Energy density: -1.7901112979292382\n",
      "Iteration: 13\t Energy density: -1.8053543732097368\n",
      "Iteration: 14\t Energy density: -1.8098902311724596\n",
      "Iteration: 15\t Energy density: -1.8187838955093891\n",
      "Iteration: 16\t Energy density: -1.8411197335250105\n",
      "Iteration: 17\t Energy density: -1.8389058373857579\n",
      "Iteration: 18\t Energy density: -1.858313371498332\n",
      "Iteration: 19\t Energy density: -1.717460700522847\n",
      "Iteration: 20\t Energy density: -1.8679708409219062\n",
      "Iteration: 21\t Energy density: -1.9454879982421962\n",
      "Iteration: 22\t Energy density: -2.0560182812654735\n",
      "Iteration: 23\t Energy density: -2.059035414105332\n",
      "Iteration: 24\t Energy density: -2.0609409824651106\n",
      "Iteration: 25\t Energy density: -2.0606002030824553\n",
      "Iteration: 26\t Energy density: -2.0614044427889913\n",
      "Iteration: 27\t Energy density: -2.06153311767359\n",
      "Iteration: 28\t Energy density: -2.061551967708744\n",
      "Iteration: 29\t Energy density: -2.061552787901623\n",
      "Iteration: 30\t Energy density: -2.0615528121820677\n",
      "Iteration: 31\t Energy density: -2.0615528128081673\n",
      "{'cost_function_evals': 31,\n",
      " 'eigenstate': {'000': 61,\n",
      "                '001': 212,\n",
      "                '010': 79,\n",
      "                '011': 169,\n",
      "                '100': 191,\n",
      "                '101': 56,\n",
      "                '110': 166,\n",
      "                '111': 90},\n",
      " 'eigenvalue': (-2.0615528128081673+0j),\n",
      " 'optimal_parameters': {Parameter(θ[2]): -0.7443866242191339,\n",
      "                        Parameter(θ[1]): 0.9945191373749246,\n",
      "                        Parameter(θ[3]): 0.7443854469413203,\n",
      "                        Parameter(θ[4]): 0.994518036941967,\n",
      "                        Parameter(θ[5]): -2.5519317309172687,\n",
      "                        Parameter(θ[0]): 3.141592653589793},\n",
      " 'optimal_point': array([ 3.14159265,  0.99451914, -0.74438662,  0.74438545,  0.99451804,\n",
      "       -2.55193173]),\n",
      " 'optimal_value': -2.0615528128081673,\n",
      " 'optimizer_evals': 31,\n",
      " 'optimizer_time': 45.13774061203003}\n"
     ]
    }
   ],
   "source": [
    "from qiskit.aqua.components.optimizers import L_BFGS_B\n",
    "\n",
    "n = 2\n",
    "compressed_num_qubits = int(np.log2(n) + 1)\n",
    "total_num_qubits = 2*compressed_num_qubits - 1\n",
    "\n",
    "H = ((I^Z) + (Z^I)) +2*(Y^Y) - 3*(X^Y)\n",
    "energy = np.linalg.eigh(H.to_matrix())[0][0]\n",
    "op_reducer = QuadraticOperatorReducer()\n",
    "h = op_reducer.convert(H)\n",
    "\n",
    "optimizer = L_BFGS_B()\n",
    "\n",
    "initial_state = CompressedZero(total_num_qubits)\n",
    "var_form = CompressedFermionicGaussianState(compressed_num_qubits, initial_state=initial_state)\n",
    "\n",
    "# Create the gradient callable\n",
    "gradient = var_form.get_gradient_callable(operator=h)\n",
    "\n",
    "vqe = VQE(h, var_form, optimizer=optimizer, gradient=gradient, include_custom=True, \n",
    "          quantum_instance=quantum_instance, callback=print_intermediate_results(i=1))\n",
    "result = vqe.run()\n",
    "pprint(result)"
   ]
  },
  {
   "cell_type": "code",
   "execution_count": 17,
   "metadata": {},
   "outputs": [
    {
     "name": "stdout",
     "output_type": "stream",
     "text": [
      "Energy density (diagonalization): -2.0615528128088303\n",
      "Energy density (VQE): -2.0615528128081673\n",
      "Diagonalization result - VQE result: -6.630251903061435e-13\n"
     ]
    }
   ],
   "source": [
    "print(f\"Energy density (diagonalization): {energy/n}\")\n",
    "print(f\"Energy density (VQE): {result['optimal_value']}\")\n",
    "print(f\"Diagonalization result - VQE result: {energy/n - result['optimal_value']}\")"
   ]
  },
  {
   "cell_type": "markdown",
   "metadata": {},
   "source": [
    "#### Qiskit's Gradient\n",
    "Using Qiskit's Gradient has a couple of drawbracks. First, as of Qiskit 0.23.1, it doesn't work with a variational form, so we must create the quantum circuit. Since the VQE algorithm checks that the operator and the circuit have the same number of qubits, we now must tensor the compressed Hamiltonian with identities to make it a $$2\\log{n} + 1$$ qubit operator.\n",
    "\n",
    "Moreover, the operator in a VQE algorithm must be a sum of tensored operators. We have provided a converter to apply the distributive property of tensor products to any product of PauliOps or sums of PauliOps.\n",
    "\n",
    "Finally, using Qiskit's Gradient can also be slower than using our custom gradient callable, because right now Qiskit computes the gradient circuit from the expectation value circuit once for each gradient computation, introducing an important overhead that can be avoided by creating the gradient circuit just once."
   ]
  },
  {
   "cell_type": "code",
   "execution_count": 19,
   "metadata": {},
   "outputs": [
    {
     "name": "stdout",
     "output_type": "stream",
     "text": [
      "Iteration: 1\t Energy density: -0.012028582256096154\n",
      "Iteration: 2\t Energy density: -0.8897284783752683\n",
      "Iteration: 3\t Energy density: -1.1853696947030907\n",
      "Iteration: 4\t Energy density: -1.7903142664804905\n",
      "Iteration: 5\t Energy density: -1.9240342997549806\n",
      "Iteration: 6\t Energy density: -2.0373186275527813\n",
      "Iteration: 7\t Energy density: -2.056708363588946\n",
      "Iteration: 8\t Energy density: -2.0488501044903162\n",
      "Iteration: 9\t Energy density: -2.056487127203841\n",
      "Iteration: 10\t Energy density: -2.0570635006478044\n",
      "Iteration: 11\t Energy density: -2.057008050397229\n",
      "Iteration: 12\t Energy density: -2.0569052866958426\n",
      "Iteration: 13\t Energy density: -2.0497392476920737\n",
      "Iteration: 14\t Energy density: -2.0560398168484997\n",
      "Iteration: 15\t Energy density: -2.056825172770331\n",
      "Iteration: 16\t Energy density: -2.0569350469956795\n",
      "Iteration: 17\t Energy density: -2.05693715293909\n",
      "Iteration: 18\t Energy density: -2.056925957180504\n",
      "Iteration: 19\t Energy density: -2.0569171107301023\n",
      "Iteration: 20\t Energy density: -2.056911726267192\n",
      "Iteration: 21\t Energy density: -2.0569087163883664\n",
      "Iteration: 22\t Energy density: -2.056907093603758\n",
      "Iteration: 23\t Energy density: -2.0569062334631103\n",
      "{'cost_function_evals': 23,\n",
      " 'eigenstate': {'000': 236,\n",
      "                '001': 39,\n",
      "                '010': 109,\n",
      "                '011': 137,\n",
      "                '100': 28,\n",
      "                '101': 216,\n",
      "                '110': 140,\n",
      "                '111': 119},\n",
      " 'eigenvalue': (-2.0569062334631103+0j),\n",
      " 'optimal_parameters': {Parameter(θ[0]): -6.212542870250113,\n",
      "                        Parameter(θ[1]): 6.623725139119551,\n",
      "                        Parameter(θ[2]): 0.7816661945038571,\n",
      "                        Parameter(θ[3]): 5.452994219179951,\n",
      "                        Parameter(θ[4]): -6.647414560684066,\n",
      "                        Parameter(θ[5]): 4.386128287479019},\n",
      " 'optimal_point': array([-6.21254287,  6.62372514,  0.78166619,  5.45299422, -6.64741456,\n",
      "        4.38612829]),\n",
      " 'optimal_value': -2.0569062334631103,\n",
      " 'optimizer_evals': 23,\n",
      " 'optimizer_time': 199.45586967468262}\n"
     ]
    }
   ],
   "source": [
    "from cVQE.operators.converters import TensoredOpDistributor\n",
    "\n",
    "from qiskit.circuit import ParameterVector\n",
    "from qiskit.aqua.operators.gradients import Gradient\n",
    "from qiskit.aqua.components.optimizers import SLSQP\n",
    "\n",
    "n = 2\n",
    "compressed_num_qubits = int(np.log2(n) + 1)\n",
    "total_num_qubits = 2*compressed_num_qubits - 1\n",
    "\n",
    "H = ((I^Z) + (Z^I)) +2*(Y^Y) - 3*(X^Y)\n",
    "energy = np.linalg.eigh(H.to_matrix())[0][0]\n",
    "op_reducer = QuadraticOperatorReducer()\n",
    "h = op_reducer.convert(H)\n",
    "\n",
    "optimizer = SLSQP()\n",
    "\n",
    "initial_state = CompressedZero(total_num_qubits)\n",
    "var_form = CompressedFermionicGaussianState(compressed_num_qubits, initial_state=initial_state)\n",
    "\n",
    "# Make the compressed Hamiltonian a 2log(n) + 1 operator\n",
    "h = h^(I.tensorpower(total_num_qubits - compressed_num_qubits))\n",
    "\n",
    "# Convert h to a SummedOp operator of PauliOps\n",
    "tensoredop_distributor = TensoredOpDistributor()\n",
    "h = tensoredop_distributor.convert(h)\n",
    "\n",
    "# Create the circuit from the variational form\n",
    "params = ParameterVector('θ', var_form.num_parameters)\n",
    "var_form_circuit = var_form.construct_circuit(params)\n",
    "\n",
    "# Create the Gradient. The multicontrolled RY gates derivative cannot be computed with a parameter shift,\n",
    "# so we must choose either the linear combination or the numerical method\n",
    "gradient = Gradient(method='lin_comb')\n",
    "\n",
    "vqe = VQE(h, var_form_circuit, optimizer=optimizer, gradient=gradient, include_custom=True, \n",
    "          quantum_instance=quantum_instance, callback=print_intermediate_results(i=1))\n",
    "\n",
    "result = vqe.run()\n",
    "pprint(result)"
   ]
  },
  {
   "cell_type": "code",
   "execution_count": 20,
   "metadata": {},
   "outputs": [
    {
     "name": "stdout",
     "output_type": "stream",
     "text": [
      "Energy density (diagonalization): -2.0615528128088303\n",
      "Energy density (VQE): -2.0569062334631103\n",
      "Diagonalization result - VQE result: -0.004646579345719992\n"
     ]
    }
   ],
   "source": [
    "print(f\"Energy density (diagonalization): {energy/n}\")\n",
    "print(f\"Energy density (VQE): {result['optimal_value']}\")\n",
    "print(f\"Diagonalization result - VQE result: {energy/n - result['optimal_value']}\")"
   ]
  },
  {
   "cell_type": "code",
   "execution_count": 21,
   "metadata": {},
   "outputs": [
    {
     "data": {
      "text/html": [
       "<h3>Version Information</h3><table><tr><th>Qiskit Software</th><th>Version</th></tr><tr><td>Qiskit</td><td>0.23.1</td></tr><tr><td>Terra</td><td>0.16.1</td></tr><tr><td>Aer</td><td>0.7.1</td></tr><tr><td>Ignis</td><td>0.5.1</td></tr><tr><td>Aqua</td><td>0.8.1</td></tr><tr><td>IBM Q Provider</td><td>0.11.1</td></tr><tr><th>System information</th></tr><tr><td>Python</td><td>3.7.9 (default, Aug 18 2020, 06:22:45) \n",
       "[GCC 7.5.0]</td></tr><tr><td>OS</td><td>Linux</td></tr><tr><td>CPUs</td><td>2</td></tr><tr><td>Memory (Gb)</td><td>7.707633972167969</td></tr><tr><td colspan='2'>Sun Jan 17 19:15:50 2021 CET</td></tr></table>"
      ],
      "text/plain": [
       "<IPython.core.display.HTML object>"
      ]
     },
     "metadata": {},
     "output_type": "display_data"
    }
   ],
   "source": [
    "import qiskit.tools.jupyter\n",
    "%qiskit_version_table"
   ]
  }
 ],
 "metadata": {
  "kernelspec": {
   "display_name": "Python 3",
   "language": "python",
   "name": "python3"
  },
  "language_info": {
   "codemirror_mode": {
    "name": "ipython",
    "version": 3
   },
   "file_extension": ".py",
   "mimetype": "text/x-python",
   "name": "python",
   "nbconvert_exporter": "python",
   "pygments_lexer": "ipython3",
   "version": "3.7.9"
  }
 },
 "nbformat": 4,
 "nbformat_minor": 4
}
